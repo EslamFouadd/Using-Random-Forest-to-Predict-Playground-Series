{
 "cells": [
  {
   "cell_type": "code",
   "execution_count": 1,
   "id": "2d469461",
   "metadata": {
    "_cell_guid": "b1076dfc-b9ad-4769-8c92-a6c4dae69d19",
    "_uuid": "8f2839f25d086af736a60e9eeb907d3b93b6e0e5",
    "execution": {
     "iopub.execute_input": "2023-02-26T20:24:18.688404Z",
     "iopub.status.busy": "2023-02-26T20:24:18.688096Z",
     "iopub.status.idle": "2023-02-26T20:24:18.699378Z",
     "shell.execute_reply": "2023-02-26T20:24:18.698378Z"
    },
    "papermill": {
     "duration": 0.023112,
     "end_time": "2023-02-26T20:24:18.702053",
     "exception": false,
     "start_time": "2023-02-26T20:24:18.678941",
     "status": "completed"
    },
    "tags": []
   },
   "outputs": [
    {
     "name": "stdout",
     "output_type": "stream",
     "text": [
      "/kaggle/input/playground-series-s3e3/sample_submission.csv\n",
      "/kaggle/input/playground-series-s3e3/train.csv\n",
      "/kaggle/input/playground-series-s3e3/test.csv\n"
     ]
    }
   ],
   "source": [
    "# This Python 3 environment comes with many helpful analytics libraries installed\n",
    "# It is defined by the kaggle/python Docker image: https://github.com/kaggle/docker-python\n",
    "# For example, here's several helpful packages to load\n",
    "\n",
    "import numpy as np # linear algebra\n",
    "import pandas as pd # data processing, CSV file I/O (e.g. pd.read_csv)\n",
    "\n",
    "# Input data files are available in the read-only \"../input/\" directory\n",
    "# For example, running this (by clicking run or pressing Shift+Enter) will list all files under the input directory\n",
    "\n",
    "import os\n",
    "for dirname, _, filenames in os.walk('/kaggle/input'):\n",
    "    for filename in filenames:\n",
    "        print(os.path.join(dirname, filename))\n",
    "\n",
    "# You can write up to 20GB to the current directory (/kaggle/working/) that gets preserved as output when you create a version using \"Save & Run All\" \n",
    "# You can also write temporary files to /kaggle/temp/, but they won't be saved outside of the current session"
   ]
  },
  {
   "cell_type": "code",
   "execution_count": 2,
   "id": "49e07b5d",
   "metadata": {
    "execution": {
     "iopub.execute_input": "2023-02-26T20:24:18.717578Z",
     "iopub.status.busy": "2023-02-26T20:24:18.717239Z",
     "iopub.status.idle": "2023-02-26T20:24:19.928424Z",
     "shell.execute_reply": "2023-02-26T20:24:19.926926Z"
    },
    "papermill": {
     "duration": 1.221453,
     "end_time": "2023-02-26T20:24:19.930733",
     "exception": false,
     "start_time": "2023-02-26T20:24:18.709280",
     "status": "completed"
    },
    "tags": []
   },
   "outputs": [],
   "source": [
    "import pandas as pd\n",
    "import numpy as np\n",
    "import seaborn as sns\n",
    "import matplotlib.pyplot as plt"
   ]
  },
  {
   "cell_type": "code",
   "execution_count": 3,
   "id": "c816a09b",
   "metadata": {
    "execution": {
     "iopub.execute_input": "2023-02-26T20:24:19.945963Z",
     "iopub.status.busy": "2023-02-26T20:24:19.944952Z",
     "iopub.status.idle": "2023-02-26T20:24:20.016038Z",
     "shell.execute_reply": "2023-02-26T20:24:20.014320Z"
    },
    "papermill": {
     "duration": 0.081448,
     "end_time": "2023-02-26T20:24:20.018732",
     "exception": false,
     "start_time": "2023-02-26T20:24:19.937284",
     "status": "completed"
    },
    "tags": []
   },
   "outputs": [
    {
     "data": {
      "text/html": [
       "<div>\n",
       "<style scoped>\n",
       "    .dataframe tbody tr th:only-of-type {\n",
       "        vertical-align: middle;\n",
       "    }\n",
       "\n",
       "    .dataframe tbody tr th {\n",
       "        vertical-align: top;\n",
       "    }\n",
       "\n",
       "    .dataframe thead th {\n",
       "        text-align: right;\n",
       "    }\n",
       "</style>\n",
       "<table border=\"1\" class=\"dataframe\">\n",
       "  <thead>\n",
       "    <tr style=\"text-align: right;\">\n",
       "      <th></th>\n",
       "      <th>id</th>\n",
       "      <th>Age</th>\n",
       "      <th>BusinessTravel</th>\n",
       "      <th>DailyRate</th>\n",
       "      <th>Department</th>\n",
       "      <th>DistanceFromHome</th>\n",
       "      <th>Education</th>\n",
       "      <th>EducationField</th>\n",
       "      <th>EmployeeCount</th>\n",
       "      <th>EnvironmentSatisfaction</th>\n",
       "      <th>...</th>\n",
       "      <th>StandardHours</th>\n",
       "      <th>StockOptionLevel</th>\n",
       "      <th>TotalWorkingYears</th>\n",
       "      <th>TrainingTimesLastYear</th>\n",
       "      <th>WorkLifeBalance</th>\n",
       "      <th>YearsAtCompany</th>\n",
       "      <th>YearsInCurrentRole</th>\n",
       "      <th>YearsSinceLastPromotion</th>\n",
       "      <th>YearsWithCurrManager</th>\n",
       "      <th>Attrition</th>\n",
       "    </tr>\n",
       "  </thead>\n",
       "  <tbody>\n",
       "    <tr>\n",
       "      <th>0</th>\n",
       "      <td>0</td>\n",
       "      <td>36</td>\n",
       "      <td>Travel_Frequently</td>\n",
       "      <td>599</td>\n",
       "      <td>Research &amp; Development</td>\n",
       "      <td>24</td>\n",
       "      <td>3</td>\n",
       "      <td>Medical</td>\n",
       "      <td>1</td>\n",
       "      <td>4</td>\n",
       "      <td>...</td>\n",
       "      <td>80</td>\n",
       "      <td>1</td>\n",
       "      <td>10</td>\n",
       "      <td>2</td>\n",
       "      <td>3</td>\n",
       "      <td>10</td>\n",
       "      <td>0</td>\n",
       "      <td>7</td>\n",
       "      <td>8</td>\n",
       "      <td>0</td>\n",
       "    </tr>\n",
       "    <tr>\n",
       "      <th>1</th>\n",
       "      <td>1</td>\n",
       "      <td>35</td>\n",
       "      <td>Travel_Rarely</td>\n",
       "      <td>921</td>\n",
       "      <td>Sales</td>\n",
       "      <td>8</td>\n",
       "      <td>3</td>\n",
       "      <td>Other</td>\n",
       "      <td>1</td>\n",
       "      <td>1</td>\n",
       "      <td>...</td>\n",
       "      <td>80</td>\n",
       "      <td>1</td>\n",
       "      <td>4</td>\n",
       "      <td>3</td>\n",
       "      <td>3</td>\n",
       "      <td>4</td>\n",
       "      <td>2</td>\n",
       "      <td>0</td>\n",
       "      <td>3</td>\n",
       "      <td>0</td>\n",
       "    </tr>\n",
       "    <tr>\n",
       "      <th>2</th>\n",
       "      <td>2</td>\n",
       "      <td>32</td>\n",
       "      <td>Travel_Rarely</td>\n",
       "      <td>718</td>\n",
       "      <td>Sales</td>\n",
       "      <td>26</td>\n",
       "      <td>3</td>\n",
       "      <td>Marketing</td>\n",
       "      <td>1</td>\n",
       "      <td>3</td>\n",
       "      <td>...</td>\n",
       "      <td>80</td>\n",
       "      <td>2</td>\n",
       "      <td>4</td>\n",
       "      <td>3</td>\n",
       "      <td>3</td>\n",
       "      <td>3</td>\n",
       "      <td>2</td>\n",
       "      <td>1</td>\n",
       "      <td>2</td>\n",
       "      <td>0</td>\n",
       "    </tr>\n",
       "    <tr>\n",
       "      <th>3</th>\n",
       "      <td>3</td>\n",
       "      <td>38</td>\n",
       "      <td>Travel_Rarely</td>\n",
       "      <td>1488</td>\n",
       "      <td>Research &amp; Development</td>\n",
       "      <td>2</td>\n",
       "      <td>3</td>\n",
       "      <td>Medical</td>\n",
       "      <td>1</td>\n",
       "      <td>3</td>\n",
       "      <td>...</td>\n",
       "      <td>80</td>\n",
       "      <td>0</td>\n",
       "      <td>15</td>\n",
       "      <td>1</td>\n",
       "      <td>1</td>\n",
       "      <td>6</td>\n",
       "      <td>0</td>\n",
       "      <td>0</td>\n",
       "      <td>2</td>\n",
       "      <td>0</td>\n",
       "    </tr>\n",
       "    <tr>\n",
       "      <th>4</th>\n",
       "      <td>4</td>\n",
       "      <td>50</td>\n",
       "      <td>Travel_Rarely</td>\n",
       "      <td>1017</td>\n",
       "      <td>Research &amp; Development</td>\n",
       "      <td>5</td>\n",
       "      <td>4</td>\n",
       "      <td>Medical</td>\n",
       "      <td>1</td>\n",
       "      <td>2</td>\n",
       "      <td>...</td>\n",
       "      <td>80</td>\n",
       "      <td>0</td>\n",
       "      <td>31</td>\n",
       "      <td>0</td>\n",
       "      <td>3</td>\n",
       "      <td>31</td>\n",
       "      <td>14</td>\n",
       "      <td>4</td>\n",
       "      <td>10</td>\n",
       "      <td>1</td>\n",
       "    </tr>\n",
       "    <tr>\n",
       "      <th>...</th>\n",
       "      <td>...</td>\n",
       "      <td>...</td>\n",
       "      <td>...</td>\n",
       "      <td>...</td>\n",
       "      <td>...</td>\n",
       "      <td>...</td>\n",
       "      <td>...</td>\n",
       "      <td>...</td>\n",
       "      <td>...</td>\n",
       "      <td>...</td>\n",
       "      <td>...</td>\n",
       "      <td>...</td>\n",
       "      <td>...</td>\n",
       "      <td>...</td>\n",
       "      <td>...</td>\n",
       "      <td>...</td>\n",
       "      <td>...</td>\n",
       "      <td>...</td>\n",
       "      <td>...</td>\n",
       "      <td>...</td>\n",
       "      <td>...</td>\n",
       "    </tr>\n",
       "    <tr>\n",
       "      <th>1672</th>\n",
       "      <td>1672</td>\n",
       "      <td>30</td>\n",
       "      <td>Travel_Rarely</td>\n",
       "      <td>945</td>\n",
       "      <td>Sales</td>\n",
       "      <td>1</td>\n",
       "      <td>3</td>\n",
       "      <td>Life Sciences</td>\n",
       "      <td>1</td>\n",
       "      <td>4</td>\n",
       "      <td>...</td>\n",
       "      <td>80</td>\n",
       "      <td>0</td>\n",
       "      <td>10</td>\n",
       "      <td>2</td>\n",
       "      <td>4</td>\n",
       "      <td>10</td>\n",
       "      <td>0</td>\n",
       "      <td>0</td>\n",
       "      <td>8</td>\n",
       "      <td>0</td>\n",
       "    </tr>\n",
       "    <tr>\n",
       "      <th>1673</th>\n",
       "      <td>1673</td>\n",
       "      <td>32</td>\n",
       "      <td>Travel_Rarely</td>\n",
       "      <td>1303</td>\n",
       "      <td>Research &amp; Development</td>\n",
       "      <td>2</td>\n",
       "      <td>3</td>\n",
       "      <td>Life Sciences</td>\n",
       "      <td>1</td>\n",
       "      <td>1</td>\n",
       "      <td>...</td>\n",
       "      <td>80</td>\n",
       "      <td>1</td>\n",
       "      <td>10</td>\n",
       "      <td>3</td>\n",
       "      <td>4</td>\n",
       "      <td>4</td>\n",
       "      <td>2</td>\n",
       "      <td>1</td>\n",
       "      <td>3</td>\n",
       "      <td>0</td>\n",
       "    </tr>\n",
       "    <tr>\n",
       "      <th>1674</th>\n",
       "      <td>1674</td>\n",
       "      <td>29</td>\n",
       "      <td>Travel_Frequently</td>\n",
       "      <td>1184</td>\n",
       "      <td>Human Resources</td>\n",
       "      <td>24</td>\n",
       "      <td>3</td>\n",
       "      <td>Human Resources</td>\n",
       "      <td>1</td>\n",
       "      <td>2</td>\n",
       "      <td>...</td>\n",
       "      <td>80</td>\n",
       "      <td>0</td>\n",
       "      <td>1</td>\n",
       "      <td>2</td>\n",
       "      <td>3</td>\n",
       "      <td>1</td>\n",
       "      <td>0</td>\n",
       "      <td>0</td>\n",
       "      <td>0</td>\n",
       "      <td>1</td>\n",
       "    </tr>\n",
       "    <tr>\n",
       "      <th>1675</th>\n",
       "      <td>1675</td>\n",
       "      <td>36</td>\n",
       "      <td>Travel_Rarely</td>\n",
       "      <td>441</td>\n",
       "      <td>Sales</td>\n",
       "      <td>9</td>\n",
       "      <td>2</td>\n",
       "      <td>Marketing</td>\n",
       "      <td>1</td>\n",
       "      <td>2</td>\n",
       "      <td>...</td>\n",
       "      <td>80</td>\n",
       "      <td>2</td>\n",
       "      <td>10</td>\n",
       "      <td>3</td>\n",
       "      <td>2</td>\n",
       "      <td>10</td>\n",
       "      <td>3</td>\n",
       "      <td>0</td>\n",
       "      <td>8</td>\n",
       "      <td>0</td>\n",
       "    </tr>\n",
       "    <tr>\n",
       "      <th>1676</th>\n",
       "      <td>1676</td>\n",
       "      <td>36</td>\n",
       "      <td>Travel_Rarely</td>\n",
       "      <td>1141</td>\n",
       "      <td>Research &amp; Development</td>\n",
       "      <td>20</td>\n",
       "      <td>3</td>\n",
       "      <td>Life Sciences</td>\n",
       "      <td>1</td>\n",
       "      <td>3</td>\n",
       "      <td>...</td>\n",
       "      <td>80</td>\n",
       "      <td>0</td>\n",
       "      <td>10</td>\n",
       "      <td>3</td>\n",
       "      <td>2</td>\n",
       "      <td>8</td>\n",
       "      <td>2</td>\n",
       "      <td>7</td>\n",
       "      <td>3</td>\n",
       "      <td>0</td>\n",
       "    </tr>\n",
       "  </tbody>\n",
       "</table>\n",
       "<p>1677 rows × 35 columns</p>\n",
       "</div>"
      ],
      "text/plain": [
       "        id  Age     BusinessTravel  DailyRate              Department  \\\n",
       "0        0   36  Travel_Frequently        599  Research & Development   \n",
       "1        1   35      Travel_Rarely        921                   Sales   \n",
       "2        2   32      Travel_Rarely        718                   Sales   \n",
       "3        3   38      Travel_Rarely       1488  Research & Development   \n",
       "4        4   50      Travel_Rarely       1017  Research & Development   \n",
       "...    ...  ...                ...        ...                     ...   \n",
       "1672  1672   30      Travel_Rarely        945                   Sales   \n",
       "1673  1673   32      Travel_Rarely       1303  Research & Development   \n",
       "1674  1674   29  Travel_Frequently       1184         Human Resources   \n",
       "1675  1675   36      Travel_Rarely        441                   Sales   \n",
       "1676  1676   36      Travel_Rarely       1141  Research & Development   \n",
       "\n",
       "      DistanceFromHome  Education   EducationField  EmployeeCount  \\\n",
       "0                   24          3          Medical              1   \n",
       "1                    8          3            Other              1   \n",
       "2                   26          3        Marketing              1   \n",
       "3                    2          3          Medical              1   \n",
       "4                    5          4          Medical              1   \n",
       "...                ...        ...              ...            ...   \n",
       "1672                 1          3    Life Sciences              1   \n",
       "1673                 2          3    Life Sciences              1   \n",
       "1674                24          3  Human Resources              1   \n",
       "1675                 9          2        Marketing              1   \n",
       "1676                20          3    Life Sciences              1   \n",
       "\n",
       "      EnvironmentSatisfaction  ... StandardHours  StockOptionLevel  \\\n",
       "0                           4  ...            80                 1   \n",
       "1                           1  ...            80                 1   \n",
       "2                           3  ...            80                 2   \n",
       "3                           3  ...            80                 0   \n",
       "4                           2  ...            80                 0   \n",
       "...                       ...  ...           ...               ...   \n",
       "1672                        4  ...            80                 0   \n",
       "1673                        1  ...            80                 1   \n",
       "1674                        2  ...            80                 0   \n",
       "1675                        2  ...            80                 2   \n",
       "1676                        3  ...            80                 0   \n",
       "\n",
       "      TotalWorkingYears  TrainingTimesLastYear WorkLifeBalance  \\\n",
       "0                    10                      2               3   \n",
       "1                     4                      3               3   \n",
       "2                     4                      3               3   \n",
       "3                    15                      1               1   \n",
       "4                    31                      0               3   \n",
       "...                 ...                    ...             ...   \n",
       "1672                 10                      2               4   \n",
       "1673                 10                      3               4   \n",
       "1674                  1                      2               3   \n",
       "1675                 10                      3               2   \n",
       "1676                 10                      3               2   \n",
       "\n",
       "      YearsAtCompany YearsInCurrentRole  YearsSinceLastPromotion  \\\n",
       "0                 10                  0                        7   \n",
       "1                  4                  2                        0   \n",
       "2                  3                  2                        1   \n",
       "3                  6                  0                        0   \n",
       "4                 31                 14                        4   \n",
       "...              ...                ...                      ...   \n",
       "1672              10                  0                        0   \n",
       "1673               4                  2                        1   \n",
       "1674               1                  0                        0   \n",
       "1675              10                  3                        0   \n",
       "1676               8                  2                        7   \n",
       "\n",
       "      YearsWithCurrManager  Attrition  \n",
       "0                        8          0  \n",
       "1                        3          0  \n",
       "2                        2          0  \n",
       "3                        2          0  \n",
       "4                       10          1  \n",
       "...                    ...        ...  \n",
       "1672                     8          0  \n",
       "1673                     3          0  \n",
       "1674                     0          1  \n",
       "1675                     8          0  \n",
       "1676                     3          0  \n",
       "\n",
       "[1677 rows x 35 columns]"
      ]
     },
     "execution_count": 3,
     "metadata": {},
     "output_type": "execute_result"
    }
   ],
   "source": [
    "# Data exploration\n",
    "df = pd.read_csv('/kaggle/input/playground-series-s3e3/train.csv')\n",
    "data = pd.DataFrame(df)\n",
    "data"
   ]
  },
  {
   "cell_type": "code",
   "execution_count": 4,
   "id": "5f40a110",
   "metadata": {
    "execution": {
     "iopub.execute_input": "2023-02-26T20:24:20.036674Z",
     "iopub.status.busy": "2023-02-26T20:24:20.036346Z",
     "iopub.status.idle": "2023-02-26T20:24:20.048746Z",
     "shell.execute_reply": "2023-02-26T20:24:20.046635Z"
    },
    "papermill": {
     "duration": 0.024988,
     "end_time": "2023-02-26T20:24:20.051752",
     "exception": false,
     "start_time": "2023-02-26T20:24:20.026764",
     "status": "completed"
    },
    "tags": []
   },
   "outputs": [
    {
     "data": {
      "text/plain": [
       "id                          0\n",
       "Age                         0\n",
       "BusinessTravel              0\n",
       "DailyRate                   0\n",
       "Department                  0\n",
       "DistanceFromHome            0\n",
       "Education                   0\n",
       "EducationField              0\n",
       "EmployeeCount               0\n",
       "EnvironmentSatisfaction     0\n",
       "Gender                      0\n",
       "HourlyRate                  0\n",
       "JobInvolvement              0\n",
       "JobLevel                    0\n",
       "JobRole                     0\n",
       "JobSatisfaction             0\n",
       "MaritalStatus               0\n",
       "MonthlyIncome               0\n",
       "MonthlyRate                 0\n",
       "NumCompaniesWorked          0\n",
       "Over18                      0\n",
       "OverTime                    0\n",
       "PercentSalaryHike           0\n",
       "PerformanceRating           0\n",
       "RelationshipSatisfaction    0\n",
       "StandardHours               0\n",
       "StockOptionLevel            0\n",
       "TotalWorkingYears           0\n",
       "TrainingTimesLastYear       0\n",
       "WorkLifeBalance             0\n",
       "YearsAtCompany              0\n",
       "YearsInCurrentRole          0\n",
       "YearsSinceLastPromotion     0\n",
       "YearsWithCurrManager        0\n",
       "Attrition                   0\n",
       "dtype: int64"
      ]
     },
     "execution_count": 4,
     "metadata": {},
     "output_type": "execute_result"
    }
   ],
   "source": [
    "data.isnull().sum()"
   ]
  },
  {
   "cell_type": "code",
   "execution_count": 5,
   "id": "d8234609",
   "metadata": {
    "execution": {
     "iopub.execute_input": "2023-02-26T20:24:20.070726Z",
     "iopub.status.busy": "2023-02-26T20:24:20.070346Z",
     "iopub.status.idle": "2023-02-26T20:24:20.100361Z",
     "shell.execute_reply": "2023-02-26T20:24:20.098200Z"
    },
    "papermill": {
     "duration": 0.043808,
     "end_time": "2023-02-26T20:24:20.104104",
     "exception": false,
     "start_time": "2023-02-26T20:24:20.060296",
     "status": "completed"
    },
    "tags": []
   },
   "outputs": [
    {
     "name": "stdout",
     "output_type": "stream",
     "text": [
      "<class 'pandas.core.frame.DataFrame'>\n",
      "RangeIndex: 1677 entries, 0 to 1676\n",
      "Data columns (total 35 columns):\n",
      " #   Column                    Non-Null Count  Dtype \n",
      "---  ------                    --------------  ----- \n",
      " 0   id                        1677 non-null   int64 \n",
      " 1   Age                       1677 non-null   int64 \n",
      " 2   BusinessTravel            1677 non-null   object\n",
      " 3   DailyRate                 1677 non-null   int64 \n",
      " 4   Department                1677 non-null   object\n",
      " 5   DistanceFromHome          1677 non-null   int64 \n",
      " 6   Education                 1677 non-null   int64 \n",
      " 7   EducationField            1677 non-null   object\n",
      " 8   EmployeeCount             1677 non-null   int64 \n",
      " 9   EnvironmentSatisfaction   1677 non-null   int64 \n",
      " 10  Gender                    1677 non-null   object\n",
      " 11  HourlyRate                1677 non-null   int64 \n",
      " 12  JobInvolvement            1677 non-null   int64 \n",
      " 13  JobLevel                  1677 non-null   int64 \n",
      " 14  JobRole                   1677 non-null   object\n",
      " 15  JobSatisfaction           1677 non-null   int64 \n",
      " 16  MaritalStatus             1677 non-null   object\n",
      " 17  MonthlyIncome             1677 non-null   int64 \n",
      " 18  MonthlyRate               1677 non-null   int64 \n",
      " 19  NumCompaniesWorked        1677 non-null   int64 \n",
      " 20  Over18                    1677 non-null   object\n",
      " 21  OverTime                  1677 non-null   object\n",
      " 22  PercentSalaryHike         1677 non-null   int64 \n",
      " 23  PerformanceRating         1677 non-null   int64 \n",
      " 24  RelationshipSatisfaction  1677 non-null   int64 \n",
      " 25  StandardHours             1677 non-null   int64 \n",
      " 26  StockOptionLevel          1677 non-null   int64 \n",
      " 27  TotalWorkingYears         1677 non-null   int64 \n",
      " 28  TrainingTimesLastYear     1677 non-null   int64 \n",
      " 29  WorkLifeBalance           1677 non-null   int64 \n",
      " 30  YearsAtCompany            1677 non-null   int64 \n",
      " 31  YearsInCurrentRole        1677 non-null   int64 \n",
      " 32  YearsSinceLastPromotion   1677 non-null   int64 \n",
      " 33  YearsWithCurrManager      1677 non-null   int64 \n",
      " 34  Attrition                 1677 non-null   int64 \n",
      "dtypes: int64(27), object(8)\n",
      "memory usage: 458.7+ KB\n"
     ]
    }
   ],
   "source": [
    "data.info()"
   ]
  },
  {
   "cell_type": "code",
   "execution_count": 6,
   "id": "054a091a",
   "metadata": {
    "execution": {
     "iopub.execute_input": "2023-02-26T20:24:20.122129Z",
     "iopub.status.busy": "2023-02-26T20:24:20.121776Z",
     "iopub.status.idle": "2023-02-26T20:24:20.197865Z",
     "shell.execute_reply": "2023-02-26T20:24:20.196189Z"
    },
    "papermill": {
     "duration": 0.088466,
     "end_time": "2023-02-26T20:24:20.200675",
     "exception": false,
     "start_time": "2023-02-26T20:24:20.112209",
     "status": "completed"
    },
    "tags": []
   },
   "outputs": [
    {
     "data": {
      "text/html": [
       "<div>\n",
       "<style scoped>\n",
       "    .dataframe tbody tr th:only-of-type {\n",
       "        vertical-align: middle;\n",
       "    }\n",
       "\n",
       "    .dataframe tbody tr th {\n",
       "        vertical-align: top;\n",
       "    }\n",
       "\n",
       "    .dataframe thead th {\n",
       "        text-align: right;\n",
       "    }\n",
       "</style>\n",
       "<table border=\"1\" class=\"dataframe\">\n",
       "  <thead>\n",
       "    <tr style=\"text-align: right;\">\n",
       "      <th></th>\n",
       "      <th>id</th>\n",
       "      <th>Age</th>\n",
       "      <th>DailyRate</th>\n",
       "      <th>DistanceFromHome</th>\n",
       "      <th>Education</th>\n",
       "      <th>EmployeeCount</th>\n",
       "      <th>EnvironmentSatisfaction</th>\n",
       "      <th>HourlyRate</th>\n",
       "      <th>JobInvolvement</th>\n",
       "      <th>JobLevel</th>\n",
       "      <th>...</th>\n",
       "      <th>StandardHours</th>\n",
       "      <th>StockOptionLevel</th>\n",
       "      <th>TotalWorkingYears</th>\n",
       "      <th>TrainingTimesLastYear</th>\n",
       "      <th>WorkLifeBalance</th>\n",
       "      <th>YearsAtCompany</th>\n",
       "      <th>YearsInCurrentRole</th>\n",
       "      <th>YearsSinceLastPromotion</th>\n",
       "      <th>YearsWithCurrManager</th>\n",
       "      <th>Attrition</th>\n",
       "    </tr>\n",
       "  </thead>\n",
       "  <tbody>\n",
       "    <tr>\n",
       "      <th>count</th>\n",
       "      <td>1677.000000</td>\n",
       "      <td>1677.000000</td>\n",
       "      <td>1677.000000</td>\n",
       "      <td>1677.000000</td>\n",
       "      <td>1677.000000</td>\n",
       "      <td>1677.0</td>\n",
       "      <td>1677.000000</td>\n",
       "      <td>1677.000000</td>\n",
       "      <td>1677.000000</td>\n",
       "      <td>1677.000000</td>\n",
       "      <td>...</td>\n",
       "      <td>1677.0</td>\n",
       "      <td>1677.000000</td>\n",
       "      <td>1677.000000</td>\n",
       "      <td>1677.000000</td>\n",
       "      <td>1677.000000</td>\n",
       "      <td>1677.000000</td>\n",
       "      <td>1677.000000</td>\n",
       "      <td>1677.000000</td>\n",
       "      <td>1677.000000</td>\n",
       "      <td>1677.000000</td>\n",
       "    </tr>\n",
       "    <tr>\n",
       "      <th>mean</th>\n",
       "      <td>838.000000</td>\n",
       "      <td>36.036971</td>\n",
       "      <td>892.749553</td>\n",
       "      <td>8.683959</td>\n",
       "      <td>2.937984</td>\n",
       "      <td>1.0</td>\n",
       "      <td>2.757901</td>\n",
       "      <td>67.798450</td>\n",
       "      <td>2.782349</td>\n",
       "      <td>1.998807</td>\n",
       "      <td>...</td>\n",
       "      <td>80.0</td>\n",
       "      <td>0.721527</td>\n",
       "      <td>10.709600</td>\n",
       "      <td>2.732856</td>\n",
       "      <td>2.769827</td>\n",
       "      <td>6.806798</td>\n",
       "      <td>4.144305</td>\n",
       "      <td>1.978533</td>\n",
       "      <td>4.186643</td>\n",
       "      <td>0.119261</td>\n",
       "    </tr>\n",
       "    <tr>\n",
       "      <th>std</th>\n",
       "      <td>484.252517</td>\n",
       "      <td>8.507112</td>\n",
       "      <td>374.496259</td>\n",
       "      <td>7.826143</td>\n",
       "      <td>1.039078</td>\n",
       "      <td>0.0</td>\n",
       "      <td>1.086835</td>\n",
       "      <td>19.435928</td>\n",
       "      <td>0.650664</td>\n",
       "      <td>1.083065</td>\n",
       "      <td>...</td>\n",
       "      <td>0.0</td>\n",
       "      <td>0.771259</td>\n",
       "      <td>7.255135</td>\n",
       "      <td>1.145271</td>\n",
       "      <td>0.647721</td>\n",
       "      <td>5.883282</td>\n",
       "      <td>3.583398</td>\n",
       "      <td>3.045716</td>\n",
       "      <td>3.576189</td>\n",
       "      <td>0.324192</td>\n",
       "    </tr>\n",
       "    <tr>\n",
       "      <th>min</th>\n",
       "      <td>0.000000</td>\n",
       "      <td>18.000000</td>\n",
       "      <td>107.000000</td>\n",
       "      <td>1.000000</td>\n",
       "      <td>1.000000</td>\n",
       "      <td>1.0</td>\n",
       "      <td>1.000000</td>\n",
       "      <td>30.000000</td>\n",
       "      <td>1.000000</td>\n",
       "      <td>1.000000</td>\n",
       "      <td>...</td>\n",
       "      <td>80.0</td>\n",
       "      <td>0.000000</td>\n",
       "      <td>0.000000</td>\n",
       "      <td>0.000000</td>\n",
       "      <td>1.000000</td>\n",
       "      <td>0.000000</td>\n",
       "      <td>0.000000</td>\n",
       "      <td>0.000000</td>\n",
       "      <td>0.000000</td>\n",
       "      <td>0.000000</td>\n",
       "    </tr>\n",
       "    <tr>\n",
       "      <th>25%</th>\n",
       "      <td>419.000000</td>\n",
       "      <td>30.000000</td>\n",
       "      <td>589.000000</td>\n",
       "      <td>2.000000</td>\n",
       "      <td>2.000000</td>\n",
       "      <td>1.0</td>\n",
       "      <td>2.000000</td>\n",
       "      <td>51.000000</td>\n",
       "      <td>2.000000</td>\n",
       "      <td>1.000000</td>\n",
       "      <td>...</td>\n",
       "      <td>80.0</td>\n",
       "      <td>0.000000</td>\n",
       "      <td>6.000000</td>\n",
       "      <td>2.000000</td>\n",
       "      <td>2.000000</td>\n",
       "      <td>3.000000</td>\n",
       "      <td>2.000000</td>\n",
       "      <td>0.000000</td>\n",
       "      <td>2.000000</td>\n",
       "      <td>0.000000</td>\n",
       "    </tr>\n",
       "    <tr>\n",
       "      <th>50%</th>\n",
       "      <td>838.000000</td>\n",
       "      <td>35.000000</td>\n",
       "      <td>890.000000</td>\n",
       "      <td>7.000000</td>\n",
       "      <td>3.000000</td>\n",
       "      <td>1.0</td>\n",
       "      <td>3.000000</td>\n",
       "      <td>69.000000</td>\n",
       "      <td>3.000000</td>\n",
       "      <td>2.000000</td>\n",
       "      <td>...</td>\n",
       "      <td>80.0</td>\n",
       "      <td>1.000000</td>\n",
       "      <td>9.000000</td>\n",
       "      <td>3.000000</td>\n",
       "      <td>3.000000</td>\n",
       "      <td>5.000000</td>\n",
       "      <td>3.000000</td>\n",
       "      <td>1.000000</td>\n",
       "      <td>3.000000</td>\n",
       "      <td>0.000000</td>\n",
       "    </tr>\n",
       "    <tr>\n",
       "      <th>75%</th>\n",
       "      <td>1257.000000</td>\n",
       "      <td>41.000000</td>\n",
       "      <td>1223.000000</td>\n",
       "      <td>12.000000</td>\n",
       "      <td>4.000000</td>\n",
       "      <td>1.0</td>\n",
       "      <td>4.000000</td>\n",
       "      <td>84.000000</td>\n",
       "      <td>3.000000</td>\n",
       "      <td>2.000000</td>\n",
       "      <td>...</td>\n",
       "      <td>80.0</td>\n",
       "      <td>1.000000</td>\n",
       "      <td>14.000000</td>\n",
       "      <td>3.000000</td>\n",
       "      <td>3.000000</td>\n",
       "      <td>9.000000</td>\n",
       "      <td>7.000000</td>\n",
       "      <td>2.000000</td>\n",
       "      <td>7.000000</td>\n",
       "      <td>0.000000</td>\n",
       "    </tr>\n",
       "    <tr>\n",
       "      <th>max</th>\n",
       "      <td>1676.000000</td>\n",
       "      <td>60.000000</td>\n",
       "      <td>3921.000000</td>\n",
       "      <td>29.000000</td>\n",
       "      <td>15.000000</td>\n",
       "      <td>1.0</td>\n",
       "      <td>4.000000</td>\n",
       "      <td>100.000000</td>\n",
       "      <td>4.000000</td>\n",
       "      <td>7.000000</td>\n",
       "      <td>...</td>\n",
       "      <td>80.0</td>\n",
       "      <td>3.000000</td>\n",
       "      <td>41.000000</td>\n",
       "      <td>6.000000</td>\n",
       "      <td>4.000000</td>\n",
       "      <td>41.000000</td>\n",
       "      <td>18.000000</td>\n",
       "      <td>15.000000</td>\n",
       "      <td>17.000000</td>\n",
       "      <td>1.000000</td>\n",
       "    </tr>\n",
       "  </tbody>\n",
       "</table>\n",
       "<p>8 rows × 27 columns</p>\n",
       "</div>"
      ],
      "text/plain": [
       "                id          Age    DailyRate  DistanceFromHome    Education  \\\n",
       "count  1677.000000  1677.000000  1677.000000       1677.000000  1677.000000   \n",
       "mean    838.000000    36.036971   892.749553          8.683959     2.937984   \n",
       "std     484.252517     8.507112   374.496259          7.826143     1.039078   \n",
       "min       0.000000    18.000000   107.000000          1.000000     1.000000   \n",
       "25%     419.000000    30.000000   589.000000          2.000000     2.000000   \n",
       "50%     838.000000    35.000000   890.000000          7.000000     3.000000   \n",
       "75%    1257.000000    41.000000  1223.000000         12.000000     4.000000   \n",
       "max    1676.000000    60.000000  3921.000000         29.000000    15.000000   \n",
       "\n",
       "       EmployeeCount  EnvironmentSatisfaction   HourlyRate  JobInvolvement  \\\n",
       "count         1677.0              1677.000000  1677.000000     1677.000000   \n",
       "mean             1.0                 2.757901    67.798450        2.782349   \n",
       "std              0.0                 1.086835    19.435928        0.650664   \n",
       "min              1.0                 1.000000    30.000000        1.000000   \n",
       "25%              1.0                 2.000000    51.000000        2.000000   \n",
       "50%              1.0                 3.000000    69.000000        3.000000   \n",
       "75%              1.0                 4.000000    84.000000        3.000000   \n",
       "max              1.0                 4.000000   100.000000        4.000000   \n",
       "\n",
       "          JobLevel  ...  StandardHours  StockOptionLevel  TotalWorkingYears  \\\n",
       "count  1677.000000  ...         1677.0       1677.000000        1677.000000   \n",
       "mean      1.998807  ...           80.0          0.721527          10.709600   \n",
       "std       1.083065  ...            0.0          0.771259           7.255135   \n",
       "min       1.000000  ...           80.0          0.000000           0.000000   \n",
       "25%       1.000000  ...           80.0          0.000000           6.000000   \n",
       "50%       2.000000  ...           80.0          1.000000           9.000000   \n",
       "75%       2.000000  ...           80.0          1.000000          14.000000   \n",
       "max       7.000000  ...           80.0          3.000000          41.000000   \n",
       "\n",
       "       TrainingTimesLastYear  WorkLifeBalance  YearsAtCompany  \\\n",
       "count            1677.000000      1677.000000     1677.000000   \n",
       "mean                2.732856         2.769827        6.806798   \n",
       "std                 1.145271         0.647721        5.883282   \n",
       "min                 0.000000         1.000000        0.000000   \n",
       "25%                 2.000000         2.000000        3.000000   \n",
       "50%                 3.000000         3.000000        5.000000   \n",
       "75%                 3.000000         3.000000        9.000000   \n",
       "max                 6.000000         4.000000       41.000000   \n",
       "\n",
       "       YearsInCurrentRole  YearsSinceLastPromotion  YearsWithCurrManager  \\\n",
       "count         1677.000000              1677.000000           1677.000000   \n",
       "mean             4.144305                 1.978533              4.186643   \n",
       "std              3.583398                 3.045716              3.576189   \n",
       "min              0.000000                 0.000000              0.000000   \n",
       "25%              2.000000                 0.000000              2.000000   \n",
       "50%              3.000000                 1.000000              3.000000   \n",
       "75%              7.000000                 2.000000              7.000000   \n",
       "max             18.000000                15.000000             17.000000   \n",
       "\n",
       "         Attrition  \n",
       "count  1677.000000  \n",
       "mean      0.119261  \n",
       "std       0.324192  \n",
       "min       0.000000  \n",
       "25%       0.000000  \n",
       "50%       0.000000  \n",
       "75%       0.000000  \n",
       "max       1.000000  \n",
       "\n",
       "[8 rows x 27 columns]"
      ]
     },
     "execution_count": 6,
     "metadata": {},
     "output_type": "execute_result"
    }
   ],
   "source": [
    "data.describe()"
   ]
  },
  {
   "cell_type": "code",
   "execution_count": 7,
   "id": "f57bb84e",
   "metadata": {
    "execution": {
     "iopub.execute_input": "2023-02-26T20:24:20.218526Z",
     "iopub.status.busy": "2023-02-26T20:24:20.218191Z",
     "iopub.status.idle": "2023-02-26T20:24:20.227467Z",
     "shell.execute_reply": "2023-02-26T20:24:20.225744Z"
    },
    "papermill": {
     "duration": 0.02124,
     "end_time": "2023-02-26T20:24:20.230193",
     "exception": false,
     "start_time": "2023-02-26T20:24:20.208953",
     "status": "completed"
    },
    "tags": []
   },
   "outputs": [
    {
     "data": {
      "text/plain": [
       "BusinessTravel\n",
       "Non-Travel            126\n",
       "Travel_Frequently     261\n",
       "Travel_Rarely        1290\n",
       "Name: BusinessTravel, dtype: int64"
      ]
     },
     "execution_count": 7,
     "metadata": {},
     "output_type": "execute_result"
    }
   ],
   "source": [
    "#Grouping and visualization\n",
    "\n",
    "BusinessTravel = data.groupby(\"BusinessTravel\")[\"BusinessTravel\"].count()\n",
    "BusinessTravel"
   ]
  },
  {
   "cell_type": "code",
   "execution_count": 8,
   "id": "f1794d05",
   "metadata": {
    "execution": {
     "iopub.execute_input": "2023-02-26T20:24:20.249162Z",
     "iopub.status.busy": "2023-02-26T20:24:20.248814Z",
     "iopub.status.idle": "2023-02-26T20:24:20.489137Z",
     "shell.execute_reply": "2023-02-26T20:24:20.488163Z"
    },
    "papermill": {
     "duration": 0.251964,
     "end_time": "2023-02-26T20:24:20.491384",
     "exception": false,
     "start_time": "2023-02-26T20:24:20.239420",
     "status": "completed"
    },
    "tags": []
   },
   "outputs": [
    {
     "data": {
      "text/plain": [
       "<matplotlib.legend.Legend at 0x7f1ec59bd790>"
      ]
     },
     "execution_count": 8,
     "metadata": {},
     "output_type": "execute_result"
    },
    {
     "data": {
      "image/png": "[encoded data removed]",
      "text/plain": [
       "<Figure size 640x480 with 1 Axes>"
      ]
     },
     "metadata": {},
     "output_type": "display_data"
    }
   ],
   "source": [
    "BusinessTravel.plot(kind = 'bar', alpha = 0.7)\n",
    "plt.legend(loc = 'upper right')"
   ]
  },
  {
   "cell_type": "code",
   "execution_count": 9,
   "id": "368650c8",
   "metadata": {
    "execution": {
     "iopub.execute_input": "2023-02-26T20:24:20.510066Z",
     "iopub.status.busy": "2023-02-26T20:24:20.509080Z",
     "iopub.status.idle": "2023-02-26T20:24:20.518042Z",
     "shell.execute_reply": "2023-02-26T20:24:20.516489Z"
    },
    "papermill": {
     "duration": 0.021219,
     "end_time": "2023-02-26T20:24:20.520668",
     "exception": false,
     "start_time": "2023-02-26T20:24:20.499449",
     "status": "completed"
    },
    "tags": []
   },
   "outputs": [
    {
     "data": {
      "text/plain": [
       "Department\n",
       "Human Resources             39\n",
       "Research & Development    1167\n",
       "Sales                      471\n",
       "Name: Department, dtype: int64"
      ]
     },
     "execution_count": 9,
     "metadata": {},
     "output_type": "execute_result"
    }
   ],
   "source": [
    "Department = data.groupby(\"Department\")[\"Department\"].count()\n",
    "Department"
   ]
  },
  {
   "cell_type": "code",
   "execution_count": 10,
   "id": "cd583584",
   "metadata": {
    "execution": {
     "iopub.execute_input": "2023-02-26T20:24:20.539210Z",
     "iopub.status.busy": "2023-02-26T20:24:20.538823Z",
     "iopub.status.idle": "2023-02-26T20:24:20.718355Z",
     "shell.execute_reply": "2023-02-26T20:24:20.716667Z"
    },
    "papermill": {
     "duration": 0.19158,
     "end_time": "2023-02-26T20:24:20.720470",
     "exception": false,
     "start_time": "2023-02-26T20:24:20.528890",
     "status": "completed"
    },
    "tags": []
   },
   "outputs": [
    {
     "data": {
      "text/plain": [
       "<matplotlib.legend.Legend at 0x7f1ec5921ed0>"
      ]
     },
     "execution_count": 10,
     "metadata": {},
     "output_type": "execute_result"
    },
    {
     "data": {
      "image/png": "[encoded data removed]",
      "text/plain": [
       "<Figure size 640x480 with 1 Axes>"
      ]
     },
     "metadata": {},
     "output_type": "display_data"
    }
   ],
   "source": [
    "Department.plot(kind = \"bar\", alpha = 0.7)\n",
    "plt.legend(loc = \"upper right\")"
   ]
  },
  {
   "cell_type": "code",
   "execution_count": 11,
   "id": "62120bbd",
   "metadata": {
    "execution": {
     "iopub.execute_input": "2023-02-26T20:24:20.739549Z",
     "iopub.status.busy": "2023-02-26T20:24:20.739195Z",
     "iopub.status.idle": "2023-02-26T20:24:20.750659Z",
     "shell.execute_reply": "2023-02-26T20:24:20.748607Z"
    },
    "papermill": {
     "duration": 0.024057,
     "end_time": "2023-02-26T20:24:20.753416",
     "exception": false,
     "start_time": "2023-02-26T20:24:20.729359",
     "status": "completed"
    },
    "tags": []
   },
   "outputs": [
    {
     "data": {
      "text/plain": [
       "EducationField\n",
       "Human Resources      13\n",
       "Life Sciences       775\n",
       "Marketing           152\n",
       "Medical             549\n",
       "Other                82\n",
       "Technical Degree    106\n",
       "Name: EducationField, dtype: int64"
      ]
     },
     "execution_count": 11,
     "metadata": {},
     "output_type": "execute_result"
    }
   ],
   "source": [
    "EducationField = data.groupby(\"EducationField\")[\"EducationField\"].count()\n",
    "EducationField"
   ]
  },
  {
   "cell_type": "code",
   "execution_count": 12,
   "id": "0c2bde55",
   "metadata": {
    "execution": {
     "iopub.execute_input": "2023-02-26T20:24:20.773649Z",
     "iopub.status.busy": "2023-02-26T20:24:20.772953Z",
     "iopub.status.idle": "2023-02-26T20:24:20.965695Z",
     "shell.execute_reply": "2023-02-26T20:24:20.964628Z"
    },
    "papermill": {
     "duration": 0.204982,
     "end_time": "2023-02-26T20:24:20.967550",
     "exception": false,
     "start_time": "2023-02-26T20:24:20.762568",
     "status": "completed"
    },
    "tags": []
   },
   "outputs": [
    {
     "data": {
      "text/plain": [
       "<matplotlib.legend.Legend at 0x7f1ec58afe10>"
      ]
     },
     "execution_count": 12,
     "metadata": {},
     "output_type": "execute_result"
    },
    {
     "data": {
      "image/png": "[encoded data removed]",
      "text/plain": [
       "<Figure size 640x480 with 1 Axes>"
      ]
     },
     "metadata": {},
     "output_type": "display_data"
    }
   ],
   "source": [
    "EducationField.plot(alpha = 0.7, kind = 'bar')\n",
    "plt.legend(loc = 'upper right')"
   ]
  },
  {
   "cell_type": "code",
   "execution_count": 13,
   "id": "10cf7bb1",
   "metadata": {
    "execution": {
     "iopub.execute_input": "2023-02-26T20:24:20.988742Z",
     "iopub.status.busy": "2023-02-26T20:24:20.988196Z",
     "iopub.status.idle": "2023-02-26T20:24:20.997877Z",
     "shell.execute_reply": "2023-02-26T20:24:20.996431Z"
    },
    "papermill": {
     "duration": 0.023352,
     "end_time": "2023-02-26T20:24:21.000440",
     "exception": false,
     "start_time": "2023-02-26T20:24:20.977088",
     "status": "completed"
    },
    "tags": []
   },
   "outputs": [
    {
     "data": {
      "text/plain": [
       "Gender\n",
       "Female     613\n",
       "Male      1064\n",
       "Name: Gender, dtype: int64"
      ]
     },
     "execution_count": 13,
     "metadata": {},
     "output_type": "execute_result"
    }
   ],
   "source": [
    "Gender = data.groupby(\"Gender\")[\"Gender\"].count()\n",
    "Gender"
   ]
  },
  {
   "cell_type": "code",
   "execution_count": 14,
   "id": "c53e1f87",
   "metadata": {
    "execution": {
     "iopub.execute_input": "2023-02-26T20:24:21.022885Z",
     "iopub.status.busy": "2023-02-26T20:24:21.022184Z",
     "iopub.status.idle": "2023-02-26T20:24:21.175700Z",
     "shell.execute_reply": "2023-02-26T20:24:21.174149Z"
    },
    "papermill": {
     "duration": 0.16774,
     "end_time": "2023-02-26T20:24:21.178341",
     "exception": false,
     "start_time": "2023-02-26T20:24:21.010601",
     "status": "completed"
    },
    "tags": []
   },
   "outputs": [
    {
     "data": {
      "text/plain": [
       "<matplotlib.legend.Legend at 0x7f1ec5752c50>"
      ]
     },
     "execution_count": 14,
     "metadata": {},
     "output_type": "execute_result"
    },
    {
     "data": {
      "image/png": "[encoded data removed]",
      "text/plain": [
       "<Figure size 640x480 with 1 Axes>"
      ]
     },
     "metadata": {},
     "output_type": "display_data"
    }
   ],
   "source": [
    "color = [\"red\", \"blue\"]\n",
    "Gender.plot(alpha = 0.7, kind = \"bar\", color = color)\n",
    "plt.legend(loc = \"upper right\")"
   ]
  },
  {
   "cell_type": "code",
   "execution_count": 15,
   "id": "82523302",
   "metadata": {
    "execution": {
     "iopub.execute_input": "2023-02-26T20:24:21.200623Z",
     "iopub.status.busy": "2023-02-26T20:24:21.200195Z",
     "iopub.status.idle": "2023-02-26T20:24:21.211646Z",
     "shell.execute_reply": "2023-02-26T20:24:21.210329Z"
    },
    "papermill": {
     "duration": 0.025382,
     "end_time": "2023-02-26T20:24:21.213996",
     "exception": false,
     "start_time": "2023-02-26T20:24:21.188614",
     "status": "completed"
    },
    "tags": []
   },
   "outputs": [
    {
     "data": {
      "text/plain": [
       "JobRole\n",
       "Healthcare Representative    155\n",
       "Human Resources               34\n",
       "Laboratory Technician        334\n",
       "Manager                      111\n",
       "Manufacturing Director       196\n",
       "Research Director             71\n",
       "Research Scientist           344\n",
       "Sales Executive              355\n",
       "Sales Representative          77\n",
       "Name: JobRole, dtype: int64"
      ]
     },
     "execution_count": 15,
     "metadata": {},
     "output_type": "execute_result"
    }
   ],
   "source": [
    "JobRole = data.groupby(\"JobRole\")[\"JobRole\"].count()\n",
    "JobRole"
   ]
  },
  {
   "cell_type": "code",
   "execution_count": 16,
   "id": "897e55b1",
   "metadata": {
    "execution": {
     "iopub.execute_input": "2023-02-26T20:24:21.235923Z",
     "iopub.status.busy": "2023-02-26T20:24:21.235570Z",
     "iopub.status.idle": "2023-02-26T20:24:21.452091Z",
     "shell.execute_reply": "2023-02-26T20:24:21.451167Z"
    },
    "papermill": {
     "duration": 0.229814,
     "end_time": "2023-02-26T20:24:21.454075",
     "exception": false,
     "start_time": "2023-02-26T20:24:21.224261",
     "status": "completed"
    },
    "tags": []
   },
   "outputs": [
    {
     "data": {
      "text/plain": [
       "<matplotlib.legend.Legend at 0x7f1ec460e310>"
      ]
     },
     "execution_count": 16,
     "metadata": {},
     "output_type": "execute_result"
    },
    {
     "data": {
      "image/png": "[encoded data removed]",
      "text/plain": [
       "<Figure size 640x480 with 1 Axes>"
      ]
     },
     "metadata": {},
     "output_type": "display_data"
    }
   ],
   "source": [
    "JobRole.plot(alpha = 0.7, kind = \"bar\")\n",
    "plt.legend(loc = \"upper right\")"
   ]
  },
  {
   "cell_type": "code",
   "execution_count": 17,
   "id": "0350f6ed",
   "metadata": {
    "execution": {
     "iopub.execute_input": "2023-02-26T20:24:21.478347Z",
     "iopub.status.busy": "2023-02-26T20:24:21.477521Z",
     "iopub.status.idle": "2023-02-26T20:24:21.486621Z",
     "shell.execute_reply": "2023-02-26T20:24:21.485798Z"
    },
    "papermill": {
     "duration": 0.022822,
     "end_time": "2023-02-26T20:24:21.488482",
     "exception": false,
     "start_time": "2023-02-26T20:24:21.465660",
     "status": "completed"
    },
    "tags": []
   },
   "outputs": [
    {
     "data": {
      "text/plain": [
       "MaritalStatus\n",
       "Divorced    327\n",
       "Married     773\n",
       "Single      577\n",
       "Name: MaritalStatus, dtype: int64"
      ]
     },
     "execution_count": 17,
     "metadata": {},
     "output_type": "execute_result"
    }
   ],
   "source": [
    "MaritalStatus = data.groupby('MaritalStatus')['MaritalStatus'].count()\n",
    "MaritalStatus"
   ]
  },
  {
   "cell_type": "code",
   "execution_count": 18,
   "id": "70c4ff55",
   "metadata": {
    "execution": {
     "iopub.execute_input": "2023-02-26T20:24:21.512547Z",
     "iopub.status.busy": "2023-02-26T20:24:21.511675Z",
     "iopub.status.idle": "2023-02-26T20:24:21.682753Z",
     "shell.execute_reply": "2023-02-26T20:24:21.680846Z"
    },
    "papermill": {
     "duration": 0.185737,
     "end_time": "2023-02-26T20:24:21.685073",
     "exception": false,
     "start_time": "2023-02-26T20:24:21.499336",
     "status": "completed"
    },
    "tags": []
   },
   "outputs": [
    {
     "data": {
      "text/plain": [
       "<matplotlib.legend.Legend at 0x7f1ec45a3d50>"
      ]
     },
     "execution_count": 18,
     "metadata": {},
     "output_type": "execute_result"
    },
    {
     "data": {
      "image/png": "[encoded data removed]",
      "text/plain": [
       "<Figure size 640x480 with 1 Axes>"
      ]
     },
     "metadata": {},
     "output_type": "display_data"
    }
   ],
   "source": [
    "MaritalStatus.plot(alpha = 0.7, kind = \"bar\")\n",
    "plt.legend(loc = \"upper right\")"
   ]
  },
  {
   "cell_type": "code",
   "execution_count": 19,
   "id": "0ddb2002",
   "metadata": {
    "execution": {
     "iopub.execute_input": "2023-02-26T20:24:21.709395Z",
     "iopub.status.busy": "2023-02-26T20:24:21.709032Z",
     "iopub.status.idle": "2023-02-26T20:24:21.717935Z",
     "shell.execute_reply": "2023-02-26T20:24:21.716843Z"
    },
    "papermill": {
     "duration": 0.024194,
     "end_time": "2023-02-26T20:24:21.720371",
     "exception": false,
     "start_time": "2023-02-26T20:24:21.696177",
     "status": "completed"
    },
    "tags": []
   },
   "outputs": [
    {
     "data": {
      "text/plain": [
       "OverTime\n",
       "No     1277\n",
       "Yes     400\n",
       "Name: OverTime, dtype: int64"
      ]
     },
     "execution_count": 19,
     "metadata": {},
     "output_type": "execute_result"
    }
   ],
   "source": [
    "OverTime = data.groupby(\"OverTime\")[\"OverTime\"].count()\n",
    "OverTime"
   ]
  },
  {
   "cell_type": "code",
   "execution_count": 20,
   "id": "5cc5ebc0",
   "metadata": {
    "execution": {
     "iopub.execute_input": "2023-02-26T20:24:21.744318Z",
     "iopub.status.busy": "2023-02-26T20:24:21.743682Z",
     "iopub.status.idle": "2023-02-26T20:24:21.899812Z",
     "shell.execute_reply": "2023-02-26T20:24:21.898185Z"
    },
    "papermill": {
     "duration": 0.171653,
     "end_time": "2023-02-26T20:24:21.903035",
     "exception": false,
     "start_time": "2023-02-26T20:24:21.731382",
     "status": "completed"
    },
    "tags": []
   },
   "outputs": [
    {
     "data": {
      "text/plain": [
       "<matplotlib.legend.Legend at 0x7f1ec45eadd0>"
      ]
     },
     "execution_count": 20,
     "metadata": {},
     "output_type": "execute_result"
    },
    {
     "data": {
      "image/png": "[encoded data removed]",
      "text/plain": [
       "<Figure size 640x480 with 1 Axes>"
      ]
     },
     "metadata": {},
     "output_type": "display_data"
    }
   ],
   "source": [
    "color = [\"blue\", \"red\"]\n",
    "OverTime.plot(alpha = 0.7, kind = \"bar\", color = color)\n",
    "plt.legend(loc = \"upper right\")"
   ]
  },
  {
   "cell_type": "code",
   "execution_count": 21,
   "id": "36365696",
   "metadata": {
    "execution": {
     "iopub.execute_input": "2023-02-26T20:24:21.927643Z",
     "iopub.status.busy": "2023-02-26T20:24:21.927307Z",
     "iopub.status.idle": "2023-02-26T20:24:21.934448Z",
     "shell.execute_reply": "2023-02-26T20:24:21.933134Z"
    },
    "papermill": {
     "duration": 0.021651,
     "end_time": "2023-02-26T20:24:21.936313",
     "exception": false,
     "start_time": "2023-02-26T20:24:21.914662",
     "status": "completed"
    },
    "tags": []
   },
   "outputs": [],
   "source": [
    "Age_DailyRate = data.groupby(\"Age\")[\"DailyRate\"].sum()"
   ]
  },
  {
   "cell_type": "code",
   "execution_count": 22,
   "id": "63d6b5ab",
   "metadata": {
    "execution": {
     "iopub.execute_input": "2023-02-26T20:24:21.961530Z",
     "iopub.status.busy": "2023-02-26T20:24:21.961183Z",
     "iopub.status.idle": "2023-02-26T20:24:22.390781Z",
     "shell.execute_reply": "2023-02-26T20:24:22.389168Z"
    },
    "papermill": {
     "duration": 0.445865,
     "end_time": "2023-02-26T20:24:22.393590",
     "exception": false,
     "start_time": "2023-02-26T20:24:21.947725",
     "status": "completed"
    },
    "tags": []
   },
   "outputs": [
    {
     "data": {
      "text/plain": [
       "<AxesSubplot:xlabel='Age'>"
      ]
     },
     "execution_count": 22,
     "metadata": {},
     "output_type": "execute_result"
    },
    {
     "data": {
      "image/png": "[encoded data removed]",
      "text/plain": [
       "<Figure size 2000x1000 with 1 Axes>"
      ]
     },
     "metadata": {},
     "output_type": "display_data"
    }
   ],
   "source": [
    "Age_DailyRate.plot(kind = \"bar\", alpha = 0.7, figsize = (20, 10))"
   ]
  },
  {
   "cell_type": "code",
   "execution_count": 23,
   "id": "d408aaa5",
   "metadata": {
    "execution": {
     "iopub.execute_input": "2023-02-26T20:24:22.421324Z",
     "iopub.status.busy": "2023-02-26T20:24:22.420043Z",
     "iopub.status.idle": "2023-02-26T20:24:22.439450Z",
     "shell.execute_reply": "2023-02-26T20:24:22.437733Z"
    },
    "papermill": {
     "duration": 0.035909,
     "end_time": "2023-02-26T20:24:22.441801",
     "exception": false,
     "start_time": "2023-02-26T20:24:22.405892",
     "status": "completed"
    },
    "tags": []
   },
   "outputs": [],
   "source": [
    "data = data.drop(columns = 'id', axis = 1)\n",
    "data = pd.get_dummies(data)"
   ]
  },
  {
   "cell_type": "code",
   "execution_count": 24,
   "id": "e7e3e67b",
   "metadata": {
    "execution": {
     "iopub.execute_input": "2023-02-26T20:24:22.468395Z",
     "iopub.status.busy": "2023-02-26T20:24:22.468044Z",
     "iopub.status.idle": "2023-02-26T20:24:22.509309Z",
     "shell.execute_reply": "2023-02-26T20:24:22.507298Z"
    },
    "papermill": {
     "duration": 0.058925,
     "end_time": "2023-02-26T20:24:22.513240",
     "exception": false,
     "start_time": "2023-02-26T20:24:22.454315",
     "status": "completed"
    },
    "tags": []
   },
   "outputs": [
    {
     "data": {
      "text/html": [
       "<div>\n",
       "<style scoped>\n",
       "    .dataframe tbody tr th:only-of-type {\n",
       "        vertical-align: middle;\n",
       "    }\n",
       "\n",
       "    .dataframe tbody tr th {\n",
       "        vertical-align: top;\n",
       "    }\n",
       "\n",
       "    .dataframe thead th {\n",
       "        text-align: right;\n",
       "    }\n",
       "</style>\n",
       "<table border=\"1\" class=\"dataframe\">\n",
       "  <thead>\n",
       "    <tr style=\"text-align: right;\">\n",
       "      <th></th>\n",
       "      <th>id</th>\n",
       "      <th>Age</th>\n",
       "      <th>BusinessTravel</th>\n",
       "      <th>DailyRate</th>\n",
       "      <th>Department</th>\n",
       "      <th>DistanceFromHome</th>\n",
       "      <th>Education</th>\n",
       "      <th>EducationField</th>\n",
       "      <th>EmployeeCount</th>\n",
       "      <th>EnvironmentSatisfaction</th>\n",
       "      <th>...</th>\n",
       "      <th>RelationshipSatisfaction</th>\n",
       "      <th>StandardHours</th>\n",
       "      <th>StockOptionLevel</th>\n",
       "      <th>TotalWorkingYears</th>\n",
       "      <th>TrainingTimesLastYear</th>\n",
       "      <th>WorkLifeBalance</th>\n",
       "      <th>YearsAtCompany</th>\n",
       "      <th>YearsInCurrentRole</th>\n",
       "      <th>YearsSinceLastPromotion</th>\n",
       "      <th>YearsWithCurrManager</th>\n",
       "    </tr>\n",
       "  </thead>\n",
       "  <tbody>\n",
       "    <tr>\n",
       "      <th>0</th>\n",
       "      <td>1677</td>\n",
       "      <td>19</td>\n",
       "      <td>Non-Travel</td>\n",
       "      <td>992</td>\n",
       "      <td>Research &amp; Development</td>\n",
       "      <td>1</td>\n",
       "      <td>1</td>\n",
       "      <td>Medical</td>\n",
       "      <td>1</td>\n",
       "      <td>4</td>\n",
       "      <td>...</td>\n",
       "      <td>4</td>\n",
       "      <td>80</td>\n",
       "      <td>0</td>\n",
       "      <td>1</td>\n",
       "      <td>2</td>\n",
       "      <td>2</td>\n",
       "      <td>1</td>\n",
       "      <td>0</td>\n",
       "      <td>0</td>\n",
       "      <td>0</td>\n",
       "    </tr>\n",
       "    <tr>\n",
       "      <th>1</th>\n",
       "      <td>1678</td>\n",
       "      <td>45</td>\n",
       "      <td>Travel_Rarely</td>\n",
       "      <td>1136</td>\n",
       "      <td>Sales</td>\n",
       "      <td>4</td>\n",
       "      <td>4</td>\n",
       "      <td>Marketing</td>\n",
       "      <td>1</td>\n",
       "      <td>3</td>\n",
       "      <td>...</td>\n",
       "      <td>3</td>\n",
       "      <td>80</td>\n",
       "      <td>1</td>\n",
       "      <td>7</td>\n",
       "      <td>3</td>\n",
       "      <td>3</td>\n",
       "      <td>2</td>\n",
       "      <td>2</td>\n",
       "      <td>2</td>\n",
       "      <td>2</td>\n",
       "    </tr>\n",
       "    <tr>\n",
       "      <th>2</th>\n",
       "      <td>1679</td>\n",
       "      <td>37</td>\n",
       "      <td>Travel_Rarely</td>\n",
       "      <td>155</td>\n",
       "      <td>Research &amp; Development</td>\n",
       "      <td>13</td>\n",
       "      <td>3</td>\n",
       "      <td>Life Sciences</td>\n",
       "      <td>1</td>\n",
       "      <td>4</td>\n",
       "      <td>...</td>\n",
       "      <td>2</td>\n",
       "      <td>80</td>\n",
       "      <td>2</td>\n",
       "      <td>13</td>\n",
       "      <td>2</td>\n",
       "      <td>2</td>\n",
       "      <td>7</td>\n",
       "      <td>7</td>\n",
       "      <td>1</td>\n",
       "      <td>7</td>\n",
       "    </tr>\n",
       "    <tr>\n",
       "      <th>3</th>\n",
       "      <td>1680</td>\n",
       "      <td>32</td>\n",
       "      <td>Travel_Rarely</td>\n",
       "      <td>688</td>\n",
       "      <td>Research &amp; Development</td>\n",
       "      <td>1</td>\n",
       "      <td>4</td>\n",
       "      <td>Life Sciences</td>\n",
       "      <td>1</td>\n",
       "      <td>3</td>\n",
       "      <td>...</td>\n",
       "      <td>3</td>\n",
       "      <td>80</td>\n",
       "      <td>0</td>\n",
       "      <td>14</td>\n",
       "      <td>2</td>\n",
       "      <td>2</td>\n",
       "      <td>14</td>\n",
       "      <td>10</td>\n",
       "      <td>11</td>\n",
       "      <td>8</td>\n",
       "    </tr>\n",
       "    <tr>\n",
       "      <th>4</th>\n",
       "      <td>1681</td>\n",
       "      <td>29</td>\n",
       "      <td>Travel_Frequently</td>\n",
       "      <td>464</td>\n",
       "      <td>Research &amp; Development</td>\n",
       "      <td>9</td>\n",
       "      <td>1</td>\n",
       "      <td>Life Sciences</td>\n",
       "      <td>1</td>\n",
       "      <td>3</td>\n",
       "      <td>...</td>\n",
       "      <td>1</td>\n",
       "      <td>80</td>\n",
       "      <td>0</td>\n",
       "      <td>1</td>\n",
       "      <td>5</td>\n",
       "      <td>3</td>\n",
       "      <td>1</td>\n",
       "      <td>0</td>\n",
       "      <td>0</td>\n",
       "      <td>0</td>\n",
       "    </tr>\n",
       "    <tr>\n",
       "      <th>...</th>\n",
       "      <td>...</td>\n",
       "      <td>...</td>\n",
       "      <td>...</td>\n",
       "      <td>...</td>\n",
       "      <td>...</td>\n",
       "      <td>...</td>\n",
       "      <td>...</td>\n",
       "      <td>...</td>\n",
       "      <td>...</td>\n",
       "      <td>...</td>\n",
       "      <td>...</td>\n",
       "      <td>...</td>\n",
       "      <td>...</td>\n",
       "      <td>...</td>\n",
       "      <td>...</td>\n",
       "      <td>...</td>\n",
       "      <td>...</td>\n",
       "      <td>...</td>\n",
       "      <td>...</td>\n",
       "      <td>...</td>\n",
       "      <td>...</td>\n",
       "    </tr>\n",
       "    <tr>\n",
       "      <th>1114</th>\n",
       "      <td>2791</td>\n",
       "      <td>31</td>\n",
       "      <td>Travel_Rarely</td>\n",
       "      <td>755</td>\n",
       "      <td>Sales</td>\n",
       "      <td>1</td>\n",
       "      <td>1</td>\n",
       "      <td>Life Sciences</td>\n",
       "      <td>1</td>\n",
       "      <td>3</td>\n",
       "      <td>...</td>\n",
       "      <td>3</td>\n",
       "      <td>80</td>\n",
       "      <td>1</td>\n",
       "      <td>1</td>\n",
       "      <td>1</td>\n",
       "      <td>3</td>\n",
       "      <td>1</td>\n",
       "      <td>0</td>\n",
       "      <td>0</td>\n",
       "      <td>0</td>\n",
       "    </tr>\n",
       "    <tr>\n",
       "      <th>1115</th>\n",
       "      <td>2792</td>\n",
       "      <td>40</td>\n",
       "      <td>Travel_Rarely</td>\n",
       "      <td>654</td>\n",
       "      <td>Research &amp; Development</td>\n",
       "      <td>26</td>\n",
       "      <td>5</td>\n",
       "      <td>Medical</td>\n",
       "      <td>1</td>\n",
       "      <td>3</td>\n",
       "      <td>...</td>\n",
       "      <td>4</td>\n",
       "      <td>80</td>\n",
       "      <td>1</td>\n",
       "      <td>20</td>\n",
       "      <td>4</td>\n",
       "      <td>3</td>\n",
       "      <td>20</td>\n",
       "      <td>10</td>\n",
       "      <td>1</td>\n",
       "      <td>8</td>\n",
       "    </tr>\n",
       "    <tr>\n",
       "      <th>1116</th>\n",
       "      <td>2793</td>\n",
       "      <td>42</td>\n",
       "      <td>Travel_Frequently</td>\n",
       "      <td>884</td>\n",
       "      <td>Research &amp; Development</td>\n",
       "      <td>1</td>\n",
       "      <td>4</td>\n",
       "      <td>Medical</td>\n",
       "      <td>1</td>\n",
       "      <td>2</td>\n",
       "      <td>...</td>\n",
       "      <td>1</td>\n",
       "      <td>80</td>\n",
       "      <td>1</td>\n",
       "      <td>10</td>\n",
       "      <td>2</td>\n",
       "      <td>2</td>\n",
       "      <td>5</td>\n",
       "      <td>3</td>\n",
       "      <td>0</td>\n",
       "      <td>2</td>\n",
       "    </tr>\n",
       "    <tr>\n",
       "      <th>1117</th>\n",
       "      <td>2794</td>\n",
       "      <td>25</td>\n",
       "      <td>Travel_Frequently</td>\n",
       "      <td>1469</td>\n",
       "      <td>Sales</td>\n",
       "      <td>1</td>\n",
       "      <td>2</td>\n",
       "      <td>Technical Degree</td>\n",
       "      <td>1</td>\n",
       "      <td>3</td>\n",
       "      <td>...</td>\n",
       "      <td>4</td>\n",
       "      <td>80</td>\n",
       "      <td>1</td>\n",
       "      <td>5</td>\n",
       "      <td>2</td>\n",
       "      <td>3</td>\n",
       "      <td>4</td>\n",
       "      <td>2</td>\n",
       "      <td>1</td>\n",
       "      <td>3</td>\n",
       "    </tr>\n",
       "    <tr>\n",
       "      <th>1118</th>\n",
       "      <td>2795</td>\n",
       "      <td>42</td>\n",
       "      <td>Travel_Rarely</td>\n",
       "      <td>1234</td>\n",
       "      <td>Research &amp; Development</td>\n",
       "      <td>2</td>\n",
       "      <td>4</td>\n",
       "      <td>Life Sciences</td>\n",
       "      <td>1</td>\n",
       "      <td>3</td>\n",
       "      <td>...</td>\n",
       "      <td>3</td>\n",
       "      <td>80</td>\n",
       "      <td>1</td>\n",
       "      <td>23</td>\n",
       "      <td>2</td>\n",
       "      <td>3</td>\n",
       "      <td>12</td>\n",
       "      <td>7</td>\n",
       "      <td>4</td>\n",
       "      <td>9</td>\n",
       "    </tr>\n",
       "  </tbody>\n",
       "</table>\n",
       "<p>1119 rows × 34 columns</p>\n",
       "</div>"
      ],
      "text/plain": [
       "        id  Age     BusinessTravel  DailyRate              Department  \\\n",
       "0     1677   19         Non-Travel        992  Research & Development   \n",
       "1     1678   45      Travel_Rarely       1136                   Sales   \n",
       "2     1679   37      Travel_Rarely        155  Research & Development   \n",
       "3     1680   32      Travel_Rarely        688  Research & Development   \n",
       "4     1681   29  Travel_Frequently        464  Research & Development   \n",
       "...    ...  ...                ...        ...                     ...   \n",
       "1114  2791   31      Travel_Rarely        755                   Sales   \n",
       "1115  2792   40      Travel_Rarely        654  Research & Development   \n",
       "1116  2793   42  Travel_Frequently        884  Research & Development   \n",
       "1117  2794   25  Travel_Frequently       1469                   Sales   \n",
       "1118  2795   42      Travel_Rarely       1234  Research & Development   \n",
       "\n",
       "      DistanceFromHome  Education    EducationField  EmployeeCount  \\\n",
       "0                    1          1           Medical              1   \n",
       "1                    4          4         Marketing              1   \n",
       "2                   13          3     Life Sciences              1   \n",
       "3                    1          4     Life Sciences              1   \n",
       "4                    9          1     Life Sciences              1   \n",
       "...                ...        ...               ...            ...   \n",
       "1114                 1          1     Life Sciences              1   \n",
       "1115                26          5           Medical              1   \n",
       "1116                 1          4           Medical              1   \n",
       "1117                 1          2  Technical Degree              1   \n",
       "1118                 2          4     Life Sciences              1   \n",
       "\n",
       "      EnvironmentSatisfaction  ... RelationshipSatisfaction  StandardHours  \\\n",
       "0                           4  ...                        4             80   \n",
       "1                           3  ...                        3             80   \n",
       "2                           4  ...                        2             80   \n",
       "3                           3  ...                        3             80   \n",
       "4                           3  ...                        1             80   \n",
       "...                       ...  ...                      ...            ...   \n",
       "1114                        3  ...                        3             80   \n",
       "1115                        3  ...                        4             80   \n",
       "1116                        2  ...                        1             80   \n",
       "1117                        3  ...                        4             80   \n",
       "1118                        3  ...                        3             80   \n",
       "\n",
       "      StockOptionLevel  TotalWorkingYears TrainingTimesLastYear  \\\n",
       "0                    0                  1                     2   \n",
       "1                    1                  7                     3   \n",
       "2                    2                 13                     2   \n",
       "3                    0                 14                     2   \n",
       "4                    0                  1                     5   \n",
       "...                ...                ...                   ...   \n",
       "1114                 1                  1                     1   \n",
       "1115                 1                 20                     4   \n",
       "1116                 1                 10                     2   \n",
       "1117                 1                  5                     2   \n",
       "1118                 1                 23                     2   \n",
       "\n",
       "      WorkLifeBalance YearsAtCompany  YearsInCurrentRole  \\\n",
       "0                   2              1                   0   \n",
       "1                   3              2                   2   \n",
       "2                   2              7                   7   \n",
       "3                   2             14                  10   \n",
       "4                   3              1                   0   \n",
       "...               ...            ...                 ...   \n",
       "1114                3              1                   0   \n",
       "1115                3             20                  10   \n",
       "1116                2              5                   3   \n",
       "1117                3              4                   2   \n",
       "1118                3             12                   7   \n",
       "\n",
       "      YearsSinceLastPromotion  YearsWithCurrManager  \n",
       "0                           0                     0  \n",
       "1                           2                     2  \n",
       "2                           1                     7  \n",
       "3                          11                     8  \n",
       "4                           0                     0  \n",
       "...                       ...                   ...  \n",
       "1114                        0                     0  \n",
       "1115                        1                     8  \n",
       "1116                        0                     2  \n",
       "1117                        1                     3  \n",
       "1118                        4                     9  \n",
       "\n",
       "[1119 rows x 34 columns]"
      ]
     },
     "execution_count": 24,
     "metadata": {},
     "output_type": "execute_result"
    }
   ],
   "source": [
    "df = pd.read_csv(\"/kaggle/input/playground-series-s3e3/test.csv\")\n",
    "test = pd.DataFrame(df)\n",
    "test"
   ]
  },
  {
   "cell_type": "code",
   "execution_count": 25,
   "id": "39d34d01",
   "metadata": {
    "execution": {
     "iopub.execute_input": "2023-02-26T20:24:22.543446Z",
     "iopub.status.busy": "2023-02-26T20:24:22.540876Z",
     "iopub.status.idle": "2023-02-26T20:24:22.556891Z",
     "shell.execute_reply": "2023-02-26T20:24:22.556173Z"
    },
    "papermill": {
     "duration": 0.032631,
     "end_time": "2023-02-26T20:24:22.559124",
     "exception": false,
     "start_time": "2023-02-26T20:24:22.526493",
     "status": "completed"
    },
    "tags": []
   },
   "outputs": [],
   "source": [
    "test_id = test['id']\n",
    "test = test.drop(columns = 'id', axis = 1)\n",
    "test = pd.get_dummies(test)"
   ]
  },
  {
   "cell_type": "code",
   "execution_count": 26,
   "id": "46d30c04",
   "metadata": {
    "execution": {
     "iopub.execute_input": "2023-02-26T20:24:22.587063Z",
     "iopub.status.busy": "2023-02-26T20:24:22.586299Z",
     "iopub.status.idle": "2023-02-26T20:24:23.081686Z",
     "shell.execute_reply": "2023-02-26T20:24:23.079905Z"
    },
    "papermill": {
     "duration": 0.512705,
     "end_time": "2023-02-26T20:24:23.084122",
     "exception": false,
     "start_time": "2023-02-26T20:24:22.571417",
     "status": "completed"
    },
    "tags": []
   },
   "outputs": [],
   "source": [
    "#Building a forecast model and getting the result\n",
    "\n",
    "from sklearn.model_selection import train_test_split\n",
    "from sklearn.tree import DecisionTreeClassifier"
   ]
  },
  {
   "cell_type": "code",
   "execution_count": 27,
   "id": "03f94bbd",
   "metadata": {
    "execution": {
     "iopub.execute_input": "2023-02-26T20:24:23.110601Z",
     "iopub.status.busy": "2023-02-26T20:24:23.110264Z",
     "iopub.status.idle": "2023-02-26T20:24:23.117444Z",
     "shell.execute_reply": "2023-02-26T20:24:23.116700Z"
    },
    "papermill": {
     "duration": 0.02283,
     "end_time": "2023-02-26T20:24:23.119336",
     "exception": false,
     "start_time": "2023-02-26T20:24:23.096506",
     "status": "completed"
    },
    "tags": []
   },
   "outputs": [],
   "source": [
    "x = data.drop(columns = \"Attrition\", axis = 1)\n",
    "y = data[\"Attrition\"]"
   ]
  },
  {
   "cell_type": "code",
   "execution_count": 28,
   "id": "673bbdbb",
   "metadata": {
    "execution": {
     "iopub.execute_input": "2023-02-26T20:24:23.145656Z",
     "iopub.status.busy": "2023-02-26T20:24:23.145098Z",
     "iopub.status.idle": "2023-02-26T20:24:23.377459Z",
     "shell.execute_reply": "2023-02-26T20:24:23.375883Z"
    },
    "papermill": {
     "duration": 0.249101,
     "end_time": "2023-02-26T20:24:23.380610",
     "exception": false,
     "start_time": "2023-02-26T20:24:23.131509",
     "status": "completed"
    },
    "tags": []
   },
   "outputs": [],
   "source": [
    "from sklearn.ensemble import RandomForestClassifier\n",
    "\n",
    "r = RandomForestClassifier(n_estimators = 30, oob_score = True, max_features = 5, max_depth = 30)\n",
    "r.fit(x, y)\n",
    "y_pred = r.predict(test)"
   ]
  },
  {
   "cell_type": "code",
   "execution_count": 29,
   "id": "a3539133",
   "metadata": {
    "execution": {
     "iopub.execute_input": "2023-02-26T20:24:23.406783Z",
     "iopub.status.busy": "2023-02-26T20:24:23.406476Z",
     "iopub.status.idle": "2023-02-26T20:24:23.427635Z",
     "shell.execute_reply": "2023-02-26T20:24:23.426310Z"
    },
    "papermill": {
     "duration": 0.036779,
     "end_time": "2023-02-26T20:24:23.430161",
     "exception": false,
     "start_time": "2023-02-26T20:24:23.393382",
     "status": "completed"
    },
    "tags": []
   },
   "outputs": [
    {
     "data": {
      "text/plain": [
       "0.9976147883124628"
      ]
     },
     "execution_count": 29,
     "metadata": {},
     "output_type": "execute_result"
    }
   ],
   "source": [
    "r.score(x, y)"
   ]
  },
  {
   "cell_type": "code",
   "execution_count": 30,
   "id": "e0949bba",
   "metadata": {
    "execution": {
     "iopub.execute_input": "2023-02-26T20:24:23.456462Z",
     "iopub.status.busy": "2023-02-26T20:24:23.456122Z",
     "iopub.status.idle": "2023-02-26T20:24:23.471210Z",
     "shell.execute_reply": "2023-02-26T20:24:23.469737Z"
    },
    "papermill": {
     "duration": 0.030464,
     "end_time": "2023-02-26T20:24:23.473652",
     "exception": false,
     "start_time": "2023-02-26T20:24:23.443188",
     "status": "completed"
    },
    "tags": []
   },
   "outputs": [
    {
     "name": "stdout",
     "output_type": "stream",
     "text": [
      "YOU HAVE MADE IT TO SUCCESSFULLY SAVE YOUR SUBMISSION!\n"
     ]
    }
   ],
   "source": [
    "output = pd.DataFrame({'ID': test_id, \"Attrition\": y_pred})\n",
    "output.to_csv(\"sample_submission.csv\", index = False)\n",
    "print(\"YOU HAVE MADE IT TO SUCCESSFULLY SAVE YOUR SUBMISSION!\")"
   ]
  },
  {
   "cell_type": "code",
   "execution_count": null,
   "id": "9bfa79c1",
   "metadata": {
    "papermill": {
     "duration": 0.011751,
     "end_time": "2023-02-26T20:24:23.497908",
     "exception": false,
     "start_time": "2023-02-26T20:24:23.486157",
     "status": "completed"
    },
    "tags": []
   },
   "outputs": [],
   "source": []
  }
 ],
 "metadata": {
  "kernelspec": {
   "display_name": "Python 3",
   "language": "python",
   "name": "python3"
  },
  "language_info": {
   "codemirror_mode": {
    "name": "ipython",
    "version": 3
   },
   "file_extension": ".py",
   "mimetype": "text/x-python",
   "name": "python",
   "nbconvert_exporter": "python",
   "pygments_lexer": "ipython3",
   "version": "3.7.12"
  },
  "papermill": {
   "default_parameters": {},
   "duration": 16.547966,
   "end_time": "2023-02-26T20:24:24.333236",
   "environment_variables": {},
   "exception": null,
   "input_path": "__notebook__.ipynb",
   "output_path": "__notebook__.ipynb",
   "parameters": {},
   "start_time": "2023-02-26T20:24:07.785270",
   "version": "2.4.0"
  }
 },
 "nbformat": 4,
 "nbformat_minor": 5
}
